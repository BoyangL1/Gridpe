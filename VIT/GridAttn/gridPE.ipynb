{
 "cells": [
  {
   "cell_type": "code",
   "execution_count": 1,
   "metadata": {},
   "outputs": [],
   "source": [
    "import numpy as np"
   ]
  },
  {
   "cell_type": "code",
   "execution_count": 2,
   "metadata": {},
   "outputs": [],
   "source": [
    "def generate_simplex_vectors_with_projection(dimension, apply_random_rotation=False):\n",
    "    \"\"\"\n",
    "    Generate n wave vectors (omega) in an n-dimensional space using a regular simplex projection.\n",
    "    Optionally apply a random rotation to the output vectors.\n",
    "\n",
    "    Parameters:\n",
    "        dimension (int): The dimension of the space.\n",
    "        apply_random_rotation (bool): Whether to apply a random rotation.\n",
    "\n",
    "    Returns:\n",
    "        np.ndarray: An (n, n) array of normalized vectors.\n",
    "    \"\"\"\n",
    "    if dimension == 1:\n",
    "        return np.array([[1.0]])\n",
    "\n",
    "    # Step 1: Create n+1 identity points\n",
    "    points = np.eye(dimension + 1)\n",
    "\n",
    "    # Step 2: Center points to lie on hyperplane\n",
    "    points -= np.mean(points, axis=0)\n",
    "\n",
    "    # Step 3: SVD -> get orthogonal basis (n x n)\n",
    "    U, _, _ = np.linalg.svd(points.T, full_matrices=False)\n",
    "    reduced_vectors = U[:, :-1]  # Shape: (n+1, n)\n",
    "\n",
    "    # Step 4: Normalize each vector\n",
    "    reduced_vectors /= np.linalg.norm(reduced_vectors, axis=1, keepdims=True)\n",
    "\n",
    "    # Step 5: Optional random rotation\n",
    "    if apply_random_rotation:\n",
    "        # Generate a random orthogonal matrix using QR decomposition\n",
    "        Q, _ = np.linalg.qr(np.random.randn(dimension, dimension))\n",
    "        reduced_vectors = reduced_vectors @ Q.T  # Apply rotation\n",
    "\n",
    "    return reduced_vectors"
   ]
  },
  {
   "cell_type": "code",
   "execution_count": 3,
   "metadata": {},
   "outputs": [],
   "source": [
    "def generate_multi_scale_positional_encoding(omega, x, embedding_dim):\n",
    "    \"\"\"\n",
    "    Generate multi-scale positional encoding using different scales.\n",
    "\n",
    "    Parameters:\n",
    "    - omega: (n, d) array, wave vectors.\n",
    "    - x: (d,) array, input position vector.\n",
    "    - embedding_dim: int, dimensionality of the embedding space.\n",
    "\n",
    "    Returns:\n",
    "    - pe_multi: (S, n) complex-valued matrix.\n",
    "    \"\"\"\n",
    "    n, _ = omega.shape\n",
    "    S = embedding_dim // (2 * n) # int, number of scales.\n",
    "    assert embedding_dim % (2*n) == 0, \"embedding_dim must be divisible by 2*n.\"\n",
    "    scales = 1 / (\n",
    "        10000 ** (2 * n * np.arange(S)[:, None] / embedding_dim)\n",
    "    )  # Shape (S, 1)\n",
    "    theta = (scales * (omega @ x)).T  # Shape (n, S)\n",
    "    pe_multi = np.exp(1j * theta)  # Shape (n, S)\n",
    "    return pe_multi, theta"
   ]
  },
  {
   "cell_type": "markdown",
   "metadata": {},
   "source": [
    "# Full Rotation Matrix"
   ]
  },
  {
   "cell_type": "code",
   "execution_count": 4,
   "metadata": {},
   "outputs": [],
   "source": [
    "def complex_to_rotation_matrix(angles):\n",
    "    \"\"\"\n",
    "    Convert complex positional encoding values into 2D rotation matrices.\n",
    "\n",
    "    Parameters:\n",
    "    - pe: (n, S) complex array.\n",
    "\n",
    "    Returns:\n",
    "    - rotation_matrices: (n, S, 2, 2) array, each slice is a 2D rotation matrix.\n",
    "    \"\"\"\n",
    "    cos_vals, sin_vals = np.cos(angles), np.sin(angles)\n",
    "    rotation_matrices = np.stack([\n",
    "        np.stack([cos_vals, -sin_vals], axis=-1),\n",
    "        np.stack([sin_vals, cos_vals], axis=-1)\n",
    "    ], axis=-2)  # Shape (n, S, 2, 2)\n",
    "    return rotation_matrices"
   ]
  },
  {
   "cell_type": "code",
   "execution_count": 5,
   "metadata": {},
   "outputs": [],
   "source": [
    "def construct_block_diagonal_rotation_matrix(rotation_matrices):\n",
    "    \"\"\"\n",
    "    Construct the block diagonal rotation matrix.\n",
    "\n",
    "    Parameters:\n",
    "    - rotation_matrices: (n, S, 2, 2) array.\n",
    "\n",
    "    Returns:\n",
    "    - R: (2 * S * n, 2 * S * n) block diagonal matrix.\n",
    "    \"\"\"\n",
    "    n, S, _, _ = rotation_matrices.shape\n",
    "    R = np.zeros((2 * S * n, 2 * S * n))  # Initialize matrix\n",
    "\n",
    "    for s in range(S):\n",
    "        for i in range(n):\n",
    "            row, col = 2 * (s * n + i), 2 * (s * n + i)\n",
    "            R[row:row+2, col:col+2] = rotation_matrices[i, s]\n",
    "\n",
    "    return R"
   ]
  },
  {
   "cell_type": "code",
   "execution_count": 6,
   "metadata": {},
   "outputs": [],
   "source": [
    "# Example usage\n",
    "dimension, S = 2, 4  # 2D space, assume 4 scales\n",
    "embedding_length = 2 * S * (dimension+1)  # Embedding length\n",
    "omega = generate_simplex_vectors_with_projection(dimension)  # Generate omega\n",
    "\n",
    "x = np.array([1.0, 2.0])  # Position vector\n",
    "pe_multi, theta = generate_multi_scale_positional_encoding(omega, x, embedding_length)  # Multi-scale positional encoding\n",
    "rotation_matrices = complex_to_rotation_matrix(theta)  # Convert to rotation matrices\n",
    "R = construct_block_diagonal_rotation_matrix(rotation_matrices)  # Construct block diagonal matrix"
   ]
  },
  {
   "cell_type": "markdown",
   "metadata": {},
   "source": [
    "# Space Saved Format"
   ]
  },
  {
   "cell_type": "code",
   "execution_count": 7,
   "metadata": {},
   "outputs": [],
   "source": [
    "def compute_rotation_vectors(theta):\n",
    "    \"\"\"\n",
    "    Convert positional encoding angles directly into cosine and sine components.\n",
    "\n",
    "    Parameters:\n",
    "    - theta: (n, S) matrix of angles.\n",
    "\n",
    "    Returns:\n",
    "    - cos_vec: (n, S) cosine components.\n",
    "    - sin_vec: (n, S) sine components.\n",
    "    \"\"\"\n",
    "    cos_vec, sin_vec = np.cos(theta), np.sin(theta)  # Shape (n, S)\n",
    "    return cos_vec, sin_vec"
   ]
  },
  {
   "cell_type": "code",
   "execution_count": 8,
   "metadata": {},
   "outputs": [],
   "source": [
    "def apply_rotation(q, cos_vec, sin_vec):\n",
    "    \"\"\"\n",
    "    Apply the rotation transformation in a memory-efficient manner.\n",
    "\n",
    "    Parameters:\n",
    "    - q: (2nS,) Input vector representing token embedding.\n",
    "    - cos_vec: (n, S) Cosine components.\n",
    "    - sin_vec: (n, S) Sine components.\n",
    "\n",
    "    Returns:\n",
    "    - q_rotated: (2n,) Output vector after transformation.\n",
    "    \"\"\"\n",
    "    n, S = cos_vec.shape\n",
    "    assert q.shape[0] % (2 * n) == 0, f\"Input q's dimension {q.shape[0]} must be a multiple of 2n = {2 * n}\"\n",
    "\n",
    "    # Compute number of scales\n",
    "    S_from_q = q.shape[0] // (2 * n)\n",
    "    assert S_from_q == S, f\"Inconsistent S: expected {S}, but got {S_from_q} from q.shape\"\n",
    "    \n",
    "    # Reshape q to (S, 2n) for correct processing\n",
    "    q = q.reshape(S, 2 * n)\n",
    "    # Split q into even and odd components\n",
    "    q_even, q_odd = q[:, ::2], q[:, 1::2]  # Shape: (S, n)\n",
    "\n",
    "    # Compute rotated values\n",
    "    q_rotated_even = q_even * cos_vec.T - q_odd * sin_vec.T  # Shape: (S, n)\n",
    "    q_rotated_odd = q_even * sin_vec.T + q_odd * cos_vec.T  # Shape: (S, n)\n",
    "\n",
    "    # Interleave (even, odd) pairs to restore shape\n",
    "    q_rotated = np.empty((S, 2 * n))  # Shape: (S, 2n)\n",
    "    q_rotated[:, 0::2] = q_rotated_even\n",
    "    q_rotated[:, 1::2] = q_rotated_odd\n",
    "\n",
    "    q_rotated = q_rotated.T.ravel()  # Shape: (2nS, )\n",
    "    return q_rotated"
   ]
  },
  {
   "cell_type": "code",
   "execution_count": 9,
   "metadata": {},
   "outputs": [],
   "source": [
    "# Example usage\n",
    "dimension, S = 2, 4  # 2D space, assume 4 scales\n",
    "embedding_length = 2 * S * (dimension+1)  # Embedding length\n",
    "omega = generate_simplex_vectors_with_projection(dimension)  # Generate omega\n",
    "x = np.array([1.0, 2.0])  # Position vector\n",
    "pe_multi, theta = generate_multi_scale_positional_encoding(omega, x, embedding_length)  # Multi-scale positional encoding\n",
    "\n",
    "# Convert q with to a rotation transformation\n",
    "cos_vec, sin_vec = compute_rotation_vectors(theta)  # Compute cosine and sine components\n",
    "q = np.random.randn(2 * S * (dimension+1))  # Random input vector\n",
    "q_rotated = apply_rotation(q, cos_vec, sin_vec)  # Apply rotation transformation"
   ]
  }
 ],
 "metadata": {
  "kernelspec": {
   "display_name": "base",
   "language": "python",
   "name": "python3"
  },
  "language_info": {
   "codemirror_mode": {
    "name": "ipython",
    "version": 3
   },
   "file_extension": ".py",
   "mimetype": "text/x-python",
   "name": "python",
   "nbconvert_exporter": "python",
   "pygments_lexer": "ipython3",
   "version": "3.11.8"
  }
 },
 "nbformat": 4,
 "nbformat_minor": 2
}
